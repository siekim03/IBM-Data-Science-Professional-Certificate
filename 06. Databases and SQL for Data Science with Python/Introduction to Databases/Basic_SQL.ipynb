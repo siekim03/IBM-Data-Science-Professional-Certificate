{
 "cells": [
  {
   "cell_type": "markdown",
   "id": "1f0ace20",
   "metadata": {},
   "source": [
    "# Basic SQL queries (SQLite)"
   ]
  },
  {
   "cell_type": "code",
   "execution_count": 1,
   "id": "6a013e9c",
   "metadata": {},
   "outputs": [],
   "source": [
    "import sqlite3\n",
    "import pandas as pd"
   ]
  },
  {
   "cell_type": "code",
   "execution_count": 2,
   "id": "444c1419",
   "metadata": {},
   "outputs": [],
   "source": [
    "%load_ext sql"
   ]
  },
  {
   "cell_type": "code",
   "execution_count": 3,
   "id": "2b61884c",
   "metadata": {},
   "outputs": [],
   "source": [
    "# create a database\n",
    "conn = sqlite3.connect(\"database.db\")"
   ]
  },
  {
   "cell_type": "code",
   "execution_count": 4,
   "id": "074622dd",
   "metadata": {},
   "outputs": [],
   "source": [
    "%sql sqlite:///database.db"
   ]
  },
  {
   "cell_type": "code",
   "execution_count": 5,
   "id": "ebcd116a",
   "metadata": {},
   "outputs": [
    {
     "name": "stdout",
     "output_type": "stream",
     "text": [
      " * sqlite:///database.db\n",
      "Done.\n"
     ]
    },
    {
     "data": {
      "text/plain": [
       "[]"
      ]
     },
     "execution_count": 5,
     "metadata": {},
     "output_type": "execute_result"
    }
   ],
   "source": [
    "%%sql\n",
    "\n",
    "DROP TABLE INSTRUCTOR;"
   ]
  },
  {
   "cell_type": "code",
   "execution_count": 6,
   "id": "00bdf20b",
   "metadata": {},
   "outputs": [
    {
     "name": "stdout",
     "output_type": "stream",
     "text": [
      " * sqlite:///database.db\n",
      "Done.\n"
     ]
    },
    {
     "data": {
      "text/plain": [
       "[]"
      ]
     },
     "execution_count": 6,
     "metadata": {},
     "output_type": "execute_result"
    }
   ],
   "source": [
    "%%sql\n",
    "\n",
    "CREATE TABLE INSTRUCTOR\n",
    "    (ins_id INTEGER PRIMARY KEY NOT NULL, \n",
    "     lastname VARCHAR(15) NOT NULL, \n",
    "     firstname VARCHAR(15) NOT NULL, \n",
    "     city VARCHAR(15), \n",
    "     country CHAR(2)\n",
    "    );"
   ]
  },
  {
   "cell_type": "code",
   "execution_count": 7,
   "id": "00b12175",
   "metadata": {},
   "outputs": [
    {
     "name": "stdout",
     "output_type": "stream",
     "text": [
      " * sqlite:///database.db\n",
      "3 rows affected.\n"
     ]
    },
    {
     "data": {
      "text/plain": [
       "[]"
      ]
     },
     "execution_count": 7,
     "metadata": {},
     "output_type": "execute_result"
    }
   ],
   "source": [
    "%%sql\n",
    "\n",
    "INSERT INTO INSTRUCTOR\n",
    "    (ins_id, lastname, firstname, city, country)\n",
    "    VALUES \n",
    "        (1, 'Ahuja', 'Rav', 'Toronto', 'CA'),\n",
    "        (2, 'Chong', 'Raul', 'Toronto', 'CA'),\n",
    "        (3, 'Vasudevan', 'Hima', 'Chicago', 'US');"
   ]
  },
  {
   "cell_type": "code",
   "execution_count": 8,
   "id": "238b8138",
   "metadata": {},
   "outputs": [
    {
     "name": "stdout",
     "output_type": "stream",
     "text": [
      " * sqlite:///database.db\n",
      "Done.\n"
     ]
    },
    {
     "data": {
      "text/html": [
       "<table>\n",
       "    <thead>\n",
       "        <tr>\n",
       "            <th>ins_id</th>\n",
       "            <th>lastname</th>\n",
       "            <th>firstname</th>\n",
       "            <th>city</th>\n",
       "            <th>country</th>\n",
       "        </tr>\n",
       "    </thead>\n",
       "    <tbody>\n",
       "        <tr>\n",
       "            <td>1</td>\n",
       "            <td>Ahuja</td>\n",
       "            <td>Rav</td>\n",
       "            <td>Toronto</td>\n",
       "            <td>CA</td>\n",
       "        </tr>\n",
       "        <tr>\n",
       "            <td>2</td>\n",
       "            <td>Chong</td>\n",
       "            <td>Raul</td>\n",
       "            <td>Toronto</td>\n",
       "            <td>CA</td>\n",
       "        </tr>\n",
       "        <tr>\n",
       "            <td>3</td>\n",
       "            <td>Vasudevan</td>\n",
       "            <td>Hima</td>\n",
       "            <td>Chicago</td>\n",
       "            <td>US</td>\n",
       "        </tr>\n",
       "    </tbody>\n",
       "</table>"
      ],
      "text/plain": [
       "[(1, 'Ahuja', 'Rav', 'Toronto', 'CA'),\n",
       " (2, 'Chong', 'Raul', 'Toronto', 'CA'),\n",
       " (3, 'Vasudevan', 'Hima', 'Chicago', 'US')]"
      ]
     },
     "execution_count": 8,
     "metadata": {},
     "output_type": "execute_result"
    }
   ],
   "source": [
    "%%sql \n",
    "\n",
    "SELECT * FROM INSTRUCTOR"
   ]
  },
  {
   "cell_type": "code",
   "execution_count": 9,
   "id": "3977b52f",
   "metadata": {},
   "outputs": [
    {
     "name": "stdout",
     "output_type": "stream",
     "text": [
      " * sqlite:///database.db\n",
      "Done.\n"
     ]
    },
    {
     "data": {
      "text/html": [
       "<table>\n",
       "    <thead>\n",
       "        <tr>\n",
       "            <th>firstname</th>\n",
       "            <th>lastname</th>\n",
       "            <th>country</th>\n",
       "        </tr>\n",
       "    </thead>\n",
       "    <tbody>\n",
       "        <tr>\n",
       "            <td>Rav</td>\n",
       "            <td>Ahuja</td>\n",
       "            <td>CA</td>\n",
       "        </tr>\n",
       "        <tr>\n",
       "            <td>Raul</td>\n",
       "            <td>Chong</td>\n",
       "            <td>CA</td>\n",
       "        </tr>\n",
       "    </tbody>\n",
       "</table>"
      ],
      "text/plain": [
       "[('Rav', 'Ahuja', 'CA'), ('Raul', 'Chong', 'CA')]"
      ]
     },
     "execution_count": 9,
     "metadata": {},
     "output_type": "execute_result"
    }
   ],
   "source": [
    "%%sql\n",
    "\n",
    "SELECT firstname, lastname, country from INSTRUCTOR where city='Toronto'"
   ]
  },
  {
   "cell_type": "code",
   "execution_count": 10,
   "id": "04916b72",
   "metadata": {},
   "outputs": [
    {
     "name": "stdout",
     "output_type": "stream",
     "text": [
      " * sqlite:///database.db\n",
      "1 rows affected.\n"
     ]
    },
    {
     "data": {
      "text/plain": [
       "[]"
      ]
     },
     "execution_count": 10,
     "metadata": {},
     "output_type": "execute_result"
    }
   ],
   "source": [
    "%%sql\n",
    "\n",
    "UPDATE INSTRUCTOR SET city='Markham' where ins_id=1"
   ]
  },
  {
   "cell_type": "code",
   "execution_count": 11,
   "id": "84c4ad47",
   "metadata": {},
   "outputs": [
    {
     "name": "stdout",
     "output_type": "stream",
     "text": [
      " * sqlite:///database.db\n",
      "Done.\n"
     ]
    },
    {
     "data": {
      "text/html": [
       "<table>\n",
       "    <thead>\n",
       "        <tr>\n",
       "            <th>ins_id</th>\n",
       "            <th>lastname</th>\n",
       "            <th>firstname</th>\n",
       "            <th>city</th>\n",
       "            <th>country</th>\n",
       "        </tr>\n",
       "    </thead>\n",
       "    <tbody>\n",
       "        <tr>\n",
       "            <td>1</td>\n",
       "            <td>Ahuja</td>\n",
       "            <td>Rav</td>\n",
       "            <td>Markham</td>\n",
       "            <td>CA</td>\n",
       "        </tr>\n",
       "        <tr>\n",
       "            <td>2</td>\n",
       "            <td>Chong</td>\n",
       "            <td>Raul</td>\n",
       "            <td>Toronto</td>\n",
       "            <td>CA</td>\n",
       "        </tr>\n",
       "        <tr>\n",
       "            <td>3</td>\n",
       "            <td>Vasudevan</td>\n",
       "            <td>Hima</td>\n",
       "            <td>Chicago</td>\n",
       "            <td>US</td>\n",
       "        </tr>\n",
       "    </tbody>\n",
       "</table>"
      ],
      "text/plain": [
       "[(1, 'Ahuja', 'Rav', 'Markham', 'CA'),\n",
       " (2, 'Chong', 'Raul', 'Toronto', 'CA'),\n",
       " (3, 'Vasudevan', 'Hima', 'Chicago', 'US')]"
      ]
     },
     "execution_count": 11,
     "metadata": {},
     "output_type": "execute_result"
    }
   ],
   "source": [
    "%%sql\n",
    "\n",
    "SELECT * FROM INSTRUCTOR"
   ]
  },
  {
   "cell_type": "code",
   "execution_count": 12,
   "id": "f45ad603",
   "metadata": {},
   "outputs": [
    {
     "name": "stdout",
     "output_type": "stream",
     "text": [
      " * sqlite:///database.db\n",
      "1 rows affected.\n"
     ]
    },
    {
     "data": {
      "text/plain": [
       "[]"
      ]
     },
     "execution_count": 12,
     "metadata": {},
     "output_type": "execute_result"
    }
   ],
   "source": [
    "%%sql\n",
    "\n",
    "DELETE FROM INSTRUCTOR where ins_id=2"
   ]
  },
  {
   "cell_type": "code",
   "execution_count": 13,
   "id": "8383c488",
   "metadata": {},
   "outputs": [
    {
     "name": "stdout",
     "output_type": "stream",
     "text": [
      " * sqlite:///database.db\n",
      "Done.\n"
     ]
    },
    {
     "data": {
      "text/html": [
       "<table>\n",
       "    <thead>\n",
       "        <tr>\n",
       "            <th>ins_id</th>\n",
       "            <th>lastname</th>\n",
       "            <th>firstname</th>\n",
       "            <th>city</th>\n",
       "            <th>country</th>\n",
       "        </tr>\n",
       "    </thead>\n",
       "    <tbody>\n",
       "        <tr>\n",
       "            <td>1</td>\n",
       "            <td>Ahuja</td>\n",
       "            <td>Rav</td>\n",
       "            <td>Markham</td>\n",
       "            <td>CA</td>\n",
       "        </tr>\n",
       "        <tr>\n",
       "            <td>3</td>\n",
       "            <td>Vasudevan</td>\n",
       "            <td>Hima</td>\n",
       "            <td>Chicago</td>\n",
       "            <td>US</td>\n",
       "        </tr>\n",
       "    </tbody>\n",
       "</table>"
      ],
      "text/plain": [
       "[(1, 'Ahuja', 'Rav', 'Markham', 'CA'),\n",
       " (3, 'Vasudevan', 'Hima', 'Chicago', 'US')]"
      ]
     },
     "execution_count": 13,
     "metadata": {},
     "output_type": "execute_result"
    }
   ],
   "source": [
    "%%sql\n",
    "\n",
    "SELECT * FROM INSTRUCTOR"
   ]
  },
  {
   "cell_type": "code",
   "execution_count": null,
   "id": "53282d0d",
   "metadata": {},
   "outputs": [],
   "source": []
  }
 ],
 "metadata": {
  "kernelspec": {
   "display_name": "Python 3 (ipykernel)",
   "language": "python",
   "name": "python3"
  },
  "language_info": {
   "codemirror_mode": {
    "name": "ipython",
    "version": 3
   },
   "file_extension": ".py",
   "mimetype": "text/x-python",
   "name": "python",
   "nbconvert_exporter": "python",
   "pygments_lexer": "ipython3",
   "version": "3.11.2"
  }
 },
 "nbformat": 4,
 "nbformat_minor": 5
}
