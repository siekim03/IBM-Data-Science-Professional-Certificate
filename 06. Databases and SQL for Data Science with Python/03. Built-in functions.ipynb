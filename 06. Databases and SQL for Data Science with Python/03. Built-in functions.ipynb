{
 "cells": [
  {
   "cell_type": "code",
   "execution_count": 1,
   "id": "a1d6eb1e",
   "metadata": {},
   "outputs": [],
   "source": [
    "import sqlite3\n",
    "import pandas as pd"
   ]
  },
  {
   "cell_type": "code",
   "execution_count": 2,
   "id": "aeb79a8d",
   "metadata": {},
   "outputs": [],
   "source": [
    "%load_ext sql"
   ]
  },
  {
   "cell_type": "code",
   "execution_count": 3,
   "id": "09e4e394",
   "metadata": {},
   "outputs": [],
   "source": [
    "conn = sqlite3.connect('Pet.db')"
   ]
  },
  {
   "cell_type": "code",
   "execution_count": 4,
   "id": "7d519215",
   "metadata": {},
   "outputs": [],
   "source": [
    "%sql sqlite:///Pet.db"
   ]
  },
  {
   "cell_type": "code",
   "execution_count": 5,
   "id": "8788aff5",
   "metadata": {},
   "outputs": [
    {
     "name": "stdout",
     "output_type": "stream",
     "text": [
      " * sqlite:///Pet.db\n",
      "Done.\n"
     ]
    },
    {
     "data": {
      "text/html": [
       "<table>\n",
       "    <thead>\n",
       "        <tr>\n",
       "            <th>ID</th>\n",
       "            <th>ANIMAL</th>\n",
       "            <th>QUANTITY</th>\n",
       "            <th>SALEPRICE</th>\n",
       "            <th>SALEDATE</th>\n",
       "        </tr>\n",
       "    </thead>\n",
       "    <tbody>\n",
       "        <tr>\n",
       "            <td>1</td>\n",
       "            <td>Cat</td>\n",
       "            <td>9</td>\n",
       "            <td>450.09</td>\n",
       "            <td>2018-05-29</td>\n",
       "        </tr>\n",
       "        <tr>\n",
       "            <td>2</td>\n",
       "            <td>Dog</td>\n",
       "            <td>3</td>\n",
       "            <td>666.66</td>\n",
       "            <td>2018-06-01</td>\n",
       "        </tr>\n",
       "        <tr>\n",
       "            <td>3</td>\n",
       "            <td>Dog</td>\n",
       "            <td>1</td>\n",
       "            <td>100</td>\n",
       "            <td>2018-06-04</td>\n",
       "        </tr>\n",
       "        <tr>\n",
       "            <td>4</td>\n",
       "            <td>Parrot</td>\n",
       "            <td>2</td>\n",
       "            <td>50</td>\n",
       "            <td>2018-06-04</td>\n",
       "        </tr>\n",
       "        <tr>\n",
       "            <td>5</td>\n",
       "            <td>Dog</td>\n",
       "            <td>1</td>\n",
       "            <td>75.75</td>\n",
       "            <td>2018-06-10</td>\n",
       "        </tr>\n",
       "        <tr>\n",
       "            <td>6</td>\n",
       "            <td>Hamster</td>\n",
       "            <td>6</td>\n",
       "            <td>60.6</td>\n",
       "            <td>2018-06-11</td>\n",
       "        </tr>\n",
       "        <tr>\n",
       "            <td>7</td>\n",
       "            <td>Cat</td>\n",
       "            <td>1</td>\n",
       "            <td>44.44</td>\n",
       "            <td>2018-06-11</td>\n",
       "        </tr>\n",
       "        <tr>\n",
       "            <td>8</td>\n",
       "            <td>Goldfish</td>\n",
       "            <td>24</td>\n",
       "            <td>48.48</td>\n",
       "            <td>2018-06-14</td>\n",
       "        </tr>\n",
       "        <tr>\n",
       "            <td>9</td>\n",
       "            <td>Dog</td>\n",
       "            <td>2</td>\n",
       "            <td>222.22</td>\n",
       "            <td>2018-06-15</td>\n",
       "        </tr>\n",
       "    </tbody>\n",
       "</table>"
      ],
      "text/plain": [
       "[(1, 'Cat', 9, 450.09, '2018-05-29'),\n",
       " (2, 'Dog', 3, 666.66, '2018-06-01'),\n",
       " (3, 'Dog', 1, 100, '2018-06-04'),\n",
       " (4, 'Parrot', 2, 50, '2018-06-04'),\n",
       " (5, 'Dog', 1, 75.75, '2018-06-10'),\n",
       " (6, 'Hamster', 6, 60.6, '2018-06-11'),\n",
       " (7, 'Cat', 1, 44.44, '2018-06-11'),\n",
       " (8, 'Goldfish', 24, 48.48, '2018-06-14'),\n",
       " (9, 'Dog', 2, 222.22, '2018-06-15')]"
      ]
     },
     "execution_count": 5,
     "metadata": {},
     "output_type": "execute_result"
    }
   ],
   "source": [
    "%%sql \n",
    "\n",
    "SELECT * from PETSALE"
   ]
  },
  {
   "cell_type": "code",
   "execution_count": 6,
   "id": "1e6d743a",
   "metadata": {},
   "outputs": [
    {
     "name": "stdout",
     "output_type": "stream",
     "text": [
      " * sqlite:///Pet.db\n",
      "Done.\n"
     ]
    },
    {
     "data": {
      "text/html": [
       "<table>\n",
       "    <thead>\n",
       "        <tr>\n",
       "            <th>SUM(SALEPRICE)</th>\n",
       "        </tr>\n",
       "    </thead>\n",
       "    <tbody>\n",
       "        <tr>\n",
       "            <td>1718.24</td>\n",
       "        </tr>\n",
       "    </tbody>\n",
       "</table>"
      ],
      "text/plain": [
       "[(1718.24,)]"
      ]
     },
     "execution_count": 6,
     "metadata": {},
     "output_type": "execute_result"
    }
   ],
   "source": [
    "%%sql\n",
    "\n",
    "SELECT SUM(SALEPRICE) from PETSALE;"
   ]
  },
  {
   "cell_type": "code",
   "execution_count": 7,
   "id": "9cfbb0eb",
   "metadata": {},
   "outputs": [
    {
     "name": "stdout",
     "output_type": "stream",
     "text": [
      " * sqlite:///Pet.db\n",
      "Done.\n"
     ]
    },
    {
     "data": {
      "text/html": [
       "<table>\n",
       "    <thead>\n",
       "        <tr>\n",
       "            <th>SUM_OF_SALEPRICE</th>\n",
       "        </tr>\n",
       "    </thead>\n",
       "    <tbody>\n",
       "        <tr>\n",
       "            <td>1718.24</td>\n",
       "        </tr>\n",
       "    </tbody>\n",
       "</table>"
      ],
      "text/plain": [
       "[(1718.24,)]"
      ]
     },
     "execution_count": 7,
     "metadata": {},
     "output_type": "execute_result"
    }
   ],
   "source": [
    "%%sql\n",
    "\n",
    "SELECT SUM(SALEPRICE) AS SUM_OF_SALEPRICE from PETSALE;"
   ]
  },
  {
   "cell_type": "code",
   "execution_count": 8,
   "id": "82e68583",
   "metadata": {},
   "outputs": [
    {
     "name": "stdout",
     "output_type": "stream",
     "text": [
      " * sqlite:///Pet.db\n",
      "Done.\n"
     ]
    },
    {
     "data": {
      "text/html": [
       "<table>\n",
       "    <thead>\n",
       "        <tr>\n",
       "            <th>MAX(QUANTITY)</th>\n",
       "        </tr>\n",
       "    </thead>\n",
       "    <tbody>\n",
       "        <tr>\n",
       "            <td>24</td>\n",
       "        </tr>\n",
       "    </tbody>\n",
       "</table>"
      ],
      "text/plain": [
       "[(24,)]"
      ]
     },
     "execution_count": 8,
     "metadata": {},
     "output_type": "execute_result"
    }
   ],
   "source": [
    "%%sql\n",
    "\n",
    "SELECT MAX(QUANTITY) from PETSALE;"
   ]
  },
  {
   "cell_type": "code",
   "execution_count": 9,
   "id": "e36f755f",
   "metadata": {},
   "outputs": [
    {
     "name": "stdout",
     "output_type": "stream",
     "text": [
      " * sqlite:///Pet.db\n",
      "Done.\n"
     ]
    },
    {
     "data": {
      "text/html": [
       "<table>\n",
       "    <thead>\n",
       "        <tr>\n",
       "            <th>AVG(SALEPRICE)</th>\n",
       "        </tr>\n",
       "    </thead>\n",
       "    <tbody>\n",
       "        <tr>\n",
       "            <td>190.91555555555556</td>\n",
       "        </tr>\n",
       "    </tbody>\n",
       "</table>"
      ],
      "text/plain": [
       "[(190.91555555555556,)]"
      ]
     },
     "execution_count": 9,
     "metadata": {},
     "output_type": "execute_result"
    }
   ],
   "source": [
    "%%sql\n",
    "\n",
    "SELECT AVG(SALEPRICE) from PETSALE;"
   ]
  },
  {
   "cell_type": "code",
   "execution_count": 10,
   "id": "75021884",
   "metadata": {},
   "outputs": [
    {
     "name": "stdout",
     "output_type": "stream",
     "text": [
      " * sqlite:///Pet.db\n",
      "Done.\n"
     ]
    },
    {
     "data": {
      "text/html": [
       "<table>\n",
       "    <thead>\n",
       "        <tr>\n",
       "            <th>AVG( SALEPRICE / QUANTITY )</th>\n",
       "        </tr>\n",
       "    </thead>\n",
       "    <tbody>\n",
       "        <tr>\n",
       "            <td>127.27000000000001</td>\n",
       "        </tr>\n",
       "    </tbody>\n",
       "</table>"
      ],
      "text/plain": [
       "[(127.27000000000001,)]"
      ]
     },
     "execution_count": 10,
     "metadata": {},
     "output_type": "execute_result"
    }
   ],
   "source": [
    "%%sql\n",
    "\n",
    "SELECT AVG( SALEPRICE / QUANTITY ) from PETSALE WHERE ANIMAL = 'Dog';"
   ]
  },
  {
   "cell_type": "code",
   "execution_count": 11,
   "id": "34bb1e13",
   "metadata": {},
   "outputs": [
    {
     "name": "stdout",
     "output_type": "stream",
     "text": [
      " * sqlite:///Pet.db\n",
      "Done.\n"
     ]
    },
    {
     "data": {
      "text/html": [
       "<table>\n",
       "    <thead>\n",
       "        <tr>\n",
       "            <th>ROUND(SALEPRICE)</th>\n",
       "        </tr>\n",
       "    </thead>\n",
       "    <tbody>\n",
       "        <tr>\n",
       "            <td>450.0</td>\n",
       "        </tr>\n",
       "        <tr>\n",
       "            <td>667.0</td>\n",
       "        </tr>\n",
       "        <tr>\n",
       "            <td>100.0</td>\n",
       "        </tr>\n",
       "        <tr>\n",
       "            <td>50.0</td>\n",
       "        </tr>\n",
       "        <tr>\n",
       "            <td>76.0</td>\n",
       "        </tr>\n",
       "        <tr>\n",
       "            <td>61.0</td>\n",
       "        </tr>\n",
       "        <tr>\n",
       "            <td>44.0</td>\n",
       "        </tr>\n",
       "        <tr>\n",
       "            <td>48.0</td>\n",
       "        </tr>\n",
       "        <tr>\n",
       "            <td>222.0</td>\n",
       "        </tr>\n",
       "    </tbody>\n",
       "</table>"
      ],
      "text/plain": [
       "[(450.0,),\n",
       " (667.0,),\n",
       " (100.0,),\n",
       " (50.0,),\n",
       " (76.0,),\n",
       " (61.0,),\n",
       " (44.0,),\n",
       " (48.0,),\n",
       " (222.0,)]"
      ]
     },
     "execution_count": 11,
     "metadata": {},
     "output_type": "execute_result"
    }
   ],
   "source": [
    "%%sql\n",
    "\n",
    "SELECT ROUND(SALEPRICE) from PETSALE;"
   ]
  },
  {
   "cell_type": "code",
   "execution_count": 12,
   "id": "16827aaf",
   "metadata": {},
   "outputs": [
    {
     "name": "stdout",
     "output_type": "stream",
     "text": [
      " * sqlite:///Pet.db\n",
      "Done.\n"
     ]
    },
    {
     "data": {
      "text/html": [
       "<table>\n",
       "    <thead>\n",
       "        <tr>\n",
       "            <th>LENGTH(ANIMAL)</th>\n",
       "        </tr>\n",
       "    </thead>\n",
       "    <tbody>\n",
       "        <tr>\n",
       "            <td>3</td>\n",
       "        </tr>\n",
       "        <tr>\n",
       "            <td>3</td>\n",
       "        </tr>\n",
       "        <tr>\n",
       "            <td>3</td>\n",
       "        </tr>\n",
       "        <tr>\n",
       "            <td>6</td>\n",
       "        </tr>\n",
       "        <tr>\n",
       "            <td>3</td>\n",
       "        </tr>\n",
       "        <tr>\n",
       "            <td>7</td>\n",
       "        </tr>\n",
       "        <tr>\n",
       "            <td>3</td>\n",
       "        </tr>\n",
       "        <tr>\n",
       "            <td>8</td>\n",
       "        </tr>\n",
       "        <tr>\n",
       "            <td>3</td>\n",
       "        </tr>\n",
       "    </tbody>\n",
       "</table>"
      ],
      "text/plain": [
       "[(3,), (3,), (3,), (6,), (3,), (7,), (3,), (8,), (3,)]"
      ]
     },
     "execution_count": 12,
     "metadata": {},
     "output_type": "execute_result"
    }
   ],
   "source": [
    "%%sql\n",
    "\n",
    "SELECT LENGTH(ANIMAL) from PETSALE;"
   ]
  },
  {
   "cell_type": "code",
   "execution_count": 13,
   "id": "edc9fb70",
   "metadata": {},
   "outputs": [
    {
     "name": "stdout",
     "output_type": "stream",
     "text": [
      " * sqlite:///Pet.db\n",
      "Done.\n"
     ]
    },
    {
     "data": {
      "text/html": [
       "<table>\n",
       "    <thead>\n",
       "        <tr>\n",
       "            <th>UPPER(ANIMAL)</th>\n",
       "        </tr>\n",
       "    </thead>\n",
       "    <tbody>\n",
       "        <tr>\n",
       "            <td>CAT</td>\n",
       "        </tr>\n",
       "        <tr>\n",
       "            <td>DOG</td>\n",
       "        </tr>\n",
       "        <tr>\n",
       "            <td>DOG</td>\n",
       "        </tr>\n",
       "        <tr>\n",
       "            <td>PARROT</td>\n",
       "        </tr>\n",
       "        <tr>\n",
       "            <td>DOG</td>\n",
       "        </tr>\n",
       "        <tr>\n",
       "            <td>HAMSTER</td>\n",
       "        </tr>\n",
       "        <tr>\n",
       "            <td>CAT</td>\n",
       "        </tr>\n",
       "        <tr>\n",
       "            <td>GOLDFISH</td>\n",
       "        </tr>\n",
       "        <tr>\n",
       "            <td>DOG</td>\n",
       "        </tr>\n",
       "    </tbody>\n",
       "</table>"
      ],
      "text/plain": [
       "[('CAT',),\n",
       " ('DOG',),\n",
       " ('DOG',),\n",
       " ('PARROT',),\n",
       " ('DOG',),\n",
       " ('HAMSTER',),\n",
       " ('CAT',),\n",
       " ('GOLDFISH',),\n",
       " ('DOG',)]"
      ]
     },
     "execution_count": 13,
     "metadata": {},
     "output_type": "execute_result"
    }
   ],
   "source": [
    "%%sql\n",
    "\n",
    "SELECT UPPER(ANIMAL) from PETSALE;"
   ]
  },
  {
   "cell_type": "code",
   "execution_count": 14,
   "id": "7eeed7ac",
   "metadata": {},
   "outputs": [
    {
     "name": "stdout",
     "output_type": "stream",
     "text": [
      " * sqlite:///Pet.db\n",
      "Done.\n"
     ]
    },
    {
     "data": {
      "text/html": [
       "<table>\n",
       "    <thead>\n",
       "        <tr>\n",
       "            <th>(UPPER(ANIMAL))</th>\n",
       "        </tr>\n",
       "    </thead>\n",
       "    <tbody>\n",
       "        <tr>\n",
       "            <td>CAT</td>\n",
       "        </tr>\n",
       "        <tr>\n",
       "            <td>DOG</td>\n",
       "        </tr>\n",
       "        <tr>\n",
       "            <td>PARROT</td>\n",
       "        </tr>\n",
       "        <tr>\n",
       "            <td>HAMSTER</td>\n",
       "        </tr>\n",
       "        <tr>\n",
       "            <td>GOLDFISH</td>\n",
       "        </tr>\n",
       "    </tbody>\n",
       "</table>"
      ],
      "text/plain": [
       "[('CAT',), ('DOG',), ('PARROT',), ('HAMSTER',), ('GOLDFISH',)]"
      ]
     },
     "execution_count": 14,
     "metadata": {},
     "output_type": "execute_result"
    }
   ],
   "source": [
    "%%sql\n",
    "\n",
    "SELECT DISTINCT(UPPER(ANIMAL)) from PETSALE;"
   ]
  },
  {
   "cell_type": "code",
   "execution_count": 15,
   "id": "8babf34b",
   "metadata": {},
   "outputs": [
    {
     "name": "stdout",
     "output_type": "stream",
     "text": [
      " * sqlite:///Pet.db\n",
      "Done.\n"
     ]
    },
    {
     "data": {
      "text/html": [
       "<table>\n",
       "    <thead>\n",
       "        <tr>\n",
       "            <th>ID</th>\n",
       "            <th>ANIMAL</th>\n",
       "            <th>QUANTITY</th>\n",
       "            <th>SALEPRICE</th>\n",
       "            <th>SALEDATE</th>\n",
       "        </tr>\n",
       "    </thead>\n",
       "    <tbody>\n",
       "        <tr>\n",
       "            <td>1</td>\n",
       "            <td>Cat</td>\n",
       "            <td>9</td>\n",
       "            <td>450.09</td>\n",
       "            <td>2018-05-29</td>\n",
       "        </tr>\n",
       "        <tr>\n",
       "            <td>7</td>\n",
       "            <td>Cat</td>\n",
       "            <td>1</td>\n",
       "            <td>44.44</td>\n",
       "            <td>2018-06-11</td>\n",
       "        </tr>\n",
       "    </tbody>\n",
       "</table>"
      ],
      "text/plain": [
       "[(1, 'Cat', 9, 450.09, '2018-05-29'), (7, 'Cat', 1, 44.44, '2018-06-11')]"
      ]
     },
     "execution_count": 15,
     "metadata": {},
     "output_type": "execute_result"
    }
   ],
   "source": [
    "%%sql\n",
    "\n",
    "SELECT * from PETSALE WHERE LOWER(ANIMAL) = 'cat';"
   ]
  },
  {
   "cell_type": "code",
   "execution_count": 16,
   "id": "8f01fd31",
   "metadata": {},
   "outputs": [
    {
     "name": "stdout",
     "output_type": "stream",
     "text": [
      " * sqlite:///Pet.db\n",
      "Done.\n"
     ]
    },
    {
     "data": {
      "text/html": [
       "<table>\n",
       "    <thead>\n",
       "        <tr>\n",
       "            <th>DAY</th>\n",
       "        </tr>\n",
       "    </thead>\n",
       "    <tbody>\n",
       "        <tr>\n",
       "            <td>29</td>\n",
       "        </tr>\n",
       "        <tr>\n",
       "            <td>11</td>\n",
       "        </tr>\n",
       "    </tbody>\n",
       "</table>"
      ],
      "text/plain": [
       "[('29',), ('11',)]"
      ]
     },
     "execution_count": 16,
     "metadata": {},
     "output_type": "execute_result"
    }
   ],
   "source": [
    "%%sql\n",
    "\n",
    "SELECT STRFTIME('%d', SALEDATE) as DAY from PETSALE WHERE ANIMAL = 'Cat';"
   ]
  },
  {
   "cell_type": "code",
   "execution_count": 17,
   "id": "8a2a8fc4",
   "metadata": {},
   "outputs": [
    {
     "name": "stdout",
     "output_type": "stream",
     "text": [
      " * sqlite:///Pet.db\n",
      "Done.\n"
     ]
    },
    {
     "data": {
      "text/html": [
       "<table>\n",
       "    <thead>\n",
       "        <tr>\n",
       "            <th>ID</th>\n",
       "            <th>ANIMAL</th>\n",
       "            <th>QUANTITY</th>\n",
       "            <th>SALEPRICE</th>\n",
       "            <th>SALEDATE</th>\n",
       "        </tr>\n",
       "    </thead>\n",
       "    <tbody>\n",
       "        <tr>\n",
       "            <td>1</td>\n",
       "            <td>Cat</td>\n",
       "            <td>9</td>\n",
       "            <td>450.09</td>\n",
       "            <td>2018-05-29</td>\n",
       "        </tr>\n",
       "    </tbody>\n",
       "</table>"
      ],
      "text/plain": [
       "[(1, 'Cat', 9, 450.09, '2018-05-29')]"
      ]
     },
     "execution_count": 17,
     "metadata": {},
     "output_type": "execute_result"
    }
   ],
   "source": [
    "%%sql\n",
    "\n",
    "SELECT * from PETSALE WHERE STRFTIME('%m', SALEDATE)='05';"
   ]
  },
  {
   "cell_type": "code",
   "execution_count": 18,
   "id": "dcb584a0",
   "metadata": {},
   "outputs": [
    {
     "name": "stdout",
     "output_type": "stream",
     "text": [
      " * sqlite:///Pet.db\n",
      "Done.\n"
     ]
    },
    {
     "data": {
      "text/html": [
       "<table>\n",
       "    <thead>\n",
       "        <tr>\n",
       "            <th>ID</th>\n",
       "            <th>ANIMAL</th>\n",
       "            <th>QUANTITY</th>\n",
       "            <th>SALEPRICE</th>\n",
       "            <th>SALEDATE</th>\n",
       "            <th>DATE(SALEDATE, &#x27;+3 day&#x27;)</th>\n",
       "        </tr>\n",
       "    </thead>\n",
       "    <tbody>\n",
       "        <tr>\n",
       "            <td>1</td>\n",
       "            <td>Cat</td>\n",
       "            <td>9</td>\n",
       "            <td>450.09</td>\n",
       "            <td>2018-05-29</td>\n",
       "            <td>2018-06-01</td>\n",
       "        </tr>\n",
       "        <tr>\n",
       "            <td>2</td>\n",
       "            <td>Dog</td>\n",
       "            <td>3</td>\n",
       "            <td>666.66</td>\n",
       "            <td>2018-06-01</td>\n",
       "            <td>2018-06-04</td>\n",
       "        </tr>\n",
       "        <tr>\n",
       "            <td>3</td>\n",
       "            <td>Dog</td>\n",
       "            <td>1</td>\n",
       "            <td>100</td>\n",
       "            <td>2018-06-04</td>\n",
       "            <td>2018-06-07</td>\n",
       "        </tr>\n",
       "        <tr>\n",
       "            <td>4</td>\n",
       "            <td>Parrot</td>\n",
       "            <td>2</td>\n",
       "            <td>50</td>\n",
       "            <td>2018-06-04</td>\n",
       "            <td>2018-06-07</td>\n",
       "        </tr>\n",
       "        <tr>\n",
       "            <td>5</td>\n",
       "            <td>Dog</td>\n",
       "            <td>1</td>\n",
       "            <td>75.75</td>\n",
       "            <td>2018-06-10</td>\n",
       "            <td>2018-06-13</td>\n",
       "        </tr>\n",
       "        <tr>\n",
       "            <td>6</td>\n",
       "            <td>Hamster</td>\n",
       "            <td>6</td>\n",
       "            <td>60.6</td>\n",
       "            <td>2018-06-11</td>\n",
       "            <td>2018-06-14</td>\n",
       "        </tr>\n",
       "        <tr>\n",
       "            <td>7</td>\n",
       "            <td>Cat</td>\n",
       "            <td>1</td>\n",
       "            <td>44.44</td>\n",
       "            <td>2018-06-11</td>\n",
       "            <td>2018-06-14</td>\n",
       "        </tr>\n",
       "        <tr>\n",
       "            <td>8</td>\n",
       "            <td>Goldfish</td>\n",
       "            <td>24</td>\n",
       "            <td>48.48</td>\n",
       "            <td>2018-06-14</td>\n",
       "            <td>2018-06-17</td>\n",
       "        </tr>\n",
       "        <tr>\n",
       "            <td>9</td>\n",
       "            <td>Dog</td>\n",
       "            <td>2</td>\n",
       "            <td>222.22</td>\n",
       "            <td>2018-06-15</td>\n",
       "            <td>2018-06-18</td>\n",
       "        </tr>\n",
       "    </tbody>\n",
       "</table>"
      ],
      "text/plain": [
       "[(1, 'Cat', 9, 450.09, '2018-05-29', '2018-06-01'),\n",
       " (2, 'Dog', 3, 666.66, '2018-06-01', '2018-06-04'),\n",
       " (3, 'Dog', 1, 100, '2018-06-04', '2018-06-07'),\n",
       " (4, 'Parrot', 2, 50, '2018-06-04', '2018-06-07'),\n",
       " (5, 'Dog', 1, 75.75, '2018-06-10', '2018-06-13'),\n",
       " (6, 'Hamster', 6, 60.6, '2018-06-11', '2018-06-14'),\n",
       " (7, 'Cat', 1, 44.44, '2018-06-11', '2018-06-14'),\n",
       " (8, 'Goldfish', 24, 48.48, '2018-06-14', '2018-06-17'),\n",
       " (9, 'Dog', 2, 222.22, '2018-06-15', '2018-06-18')]"
      ]
     },
     "execution_count": 18,
     "metadata": {},
     "output_type": "execute_result"
    }
   ],
   "source": [
    "%%sql\n",
    "\n",
    "SELECT *, DATE(SALEDATE, '+3 day') from PETSALE;"
   ]
  },
  {
   "cell_type": "code",
   "execution_count": 19,
   "id": "258348a3",
   "metadata": {},
   "outputs": [
    {
     "name": "stdout",
     "output_type": "stream",
     "text": [
      " * sqlite:///Pet.db\n",
      "Done.\n"
     ]
    },
    {
     "data": {
      "text/html": [
       "<table>\n",
       "    <thead>\n",
       "        <tr>\n",
       "            <th>ID</th>\n",
       "            <th>ANIMAL</th>\n",
       "            <th>QUANTITY</th>\n",
       "            <th>SALEPRICE</th>\n",
       "            <th>SALEDATE</th>\n",
       "            <th>DAY_TILL_NOW</th>\n",
       "        </tr>\n",
       "    </thead>\n",
       "    <tbody>\n",
       "        <tr>\n",
       "            <td>1</td>\n",
       "            <td>Cat</td>\n",
       "            <td>9</td>\n",
       "            <td>450.09</td>\n",
       "            <td>2018-05-29</td>\n",
       "            <td>1866.0</td>\n",
       "        </tr>\n",
       "        <tr>\n",
       "            <td>2</td>\n",
       "            <td>Dog</td>\n",
       "            <td>3</td>\n",
       "            <td>666.66</td>\n",
       "            <td>2018-06-01</td>\n",
       "            <td>1863.0</td>\n",
       "        </tr>\n",
       "        <tr>\n",
       "            <td>3</td>\n",
       "            <td>Dog</td>\n",
       "            <td>1</td>\n",
       "            <td>100</td>\n",
       "            <td>2018-06-04</td>\n",
       "            <td>1860.0</td>\n",
       "        </tr>\n",
       "        <tr>\n",
       "            <td>4</td>\n",
       "            <td>Parrot</td>\n",
       "            <td>2</td>\n",
       "            <td>50</td>\n",
       "            <td>2018-06-04</td>\n",
       "            <td>1860.0</td>\n",
       "        </tr>\n",
       "        <tr>\n",
       "            <td>5</td>\n",
       "            <td>Dog</td>\n",
       "            <td>1</td>\n",
       "            <td>75.75</td>\n",
       "            <td>2018-06-10</td>\n",
       "            <td>1854.0</td>\n",
       "        </tr>\n",
       "        <tr>\n",
       "            <td>6</td>\n",
       "            <td>Hamster</td>\n",
       "            <td>6</td>\n",
       "            <td>60.6</td>\n",
       "            <td>2018-06-11</td>\n",
       "            <td>1853.0</td>\n",
       "        </tr>\n",
       "        <tr>\n",
       "            <td>7</td>\n",
       "            <td>Cat</td>\n",
       "            <td>1</td>\n",
       "            <td>44.44</td>\n",
       "            <td>2018-06-11</td>\n",
       "            <td>1853.0</td>\n",
       "        </tr>\n",
       "        <tr>\n",
       "            <td>8</td>\n",
       "            <td>Goldfish</td>\n",
       "            <td>24</td>\n",
       "            <td>48.48</td>\n",
       "            <td>2018-06-14</td>\n",
       "            <td>1850.0</td>\n",
       "        </tr>\n",
       "        <tr>\n",
       "            <td>9</td>\n",
       "            <td>Dog</td>\n",
       "            <td>2</td>\n",
       "            <td>222.22</td>\n",
       "            <td>2018-06-15</td>\n",
       "            <td>1849.0</td>\n",
       "        </tr>\n",
       "    </tbody>\n",
       "</table>"
      ],
      "text/plain": [
       "[(1, 'Cat', 9, 450.09, '2018-05-29', 1866.0),\n",
       " (2, 'Dog', 3, 666.66, '2018-06-01', 1863.0),\n",
       " (3, 'Dog', 1, 100, '2018-06-04', 1860.0),\n",
       " (4, 'Parrot', 2, 50, '2018-06-04', 1860.0),\n",
       " (5, 'Dog', 1, 75.75, '2018-06-10', 1854.0),\n",
       " (6, 'Hamster', 6, 60.6, '2018-06-11', 1853.0),\n",
       " (7, 'Cat', 1, 44.44, '2018-06-11', 1853.0),\n",
       " (8, 'Goldfish', 24, 48.48, '2018-06-14', 1850.0),\n",
       " (9, 'Dog', 2, 222.22, '2018-06-15', 1849.0)]"
      ]
     },
     "execution_count": 19,
     "metadata": {},
     "output_type": "execute_result"
    }
   ],
   "source": [
    "%%sql\n",
    "\n",
    "SELECT *, (JULIANDAY(DATE())-JULIANDAY(SALEDATE)) as DAY_TILL_NOW from PETSALE;"
   ]
  },
  {
   "cell_type": "code",
   "execution_count": 20,
   "id": "c404a1e5",
   "metadata": {},
   "outputs": [],
   "source": [
    "conn.close()"
   ]
  }
 ],
 "metadata": {
  "kernelspec": {
   "display_name": "Python 3 (ipykernel)",
   "language": "python",
   "name": "python3"
  },
  "language_info": {
   "codemirror_mode": {
    "name": "ipython",
    "version": 3
   },
   "file_extension": ".py",
   "mimetype": "text/x-python",
   "name": "python",
   "nbconvert_exporter": "python",
   "pygments_lexer": "ipython3",
   "version": "3.11.2"
  }
 },
 "nbformat": 4,
 "nbformat_minor": 5
}
